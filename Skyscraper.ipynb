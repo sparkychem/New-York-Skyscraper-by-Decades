{
 "cells": [
  {
   "cell_type": "code",
   "execution_count": 52,
   "id": "39c37f08",
   "metadata": {},
   "outputs": [],
   "source": [
    "import pandas as pd\n",
    "import matplotlib.pyplot as plt\n",
    "import seaborn as sns\n",
    "import re\n",
    "import numpy as np\n",
    "import matplotlib.cm as cm"
   ]
  },
  {
   "cell_type": "code",
   "execution_count": 30,
   "id": "624129f3",
   "metadata": {},
   "outputs": [],
   "source": [
    "df = pd.read_csv('New York Skyscrapers.csv')"
   ]
  },
  {
   "cell_type": "code",
   "execution_count": 31,
   "id": "b79ce317",
   "metadata": {},
   "outputs": [
    {
     "data": {
      "text/html": [
       "<div>\n",
       "<style scoped>\n",
       "    .dataframe tbody tr th:only-of-type {\n",
       "        vertical-align: middle;\n",
       "    }\n",
       "\n",
       "    .dataframe tbody tr th {\n",
       "        vertical-align: top;\n",
       "    }\n",
       "\n",
       "    .dataframe thead th {\n",
       "        text-align: right;\n",
       "    }\n",
       "</style>\n",
       "<table border=\"1\" class=\"dataframe\">\n",
       "  <thead>\n",
       "    <tr style=\"text-align: right;\">\n",
       "      <th></th>\n",
       "      <th>Name</th>\n",
       "      <th>Height</th>\n",
       "      <th>Floors</th>\n",
       "      <th>Year</th>\n",
       "      <th>Address</th>\n",
       "    </tr>\n",
       "  </thead>\n",
       "  <tbody>\n",
       "    <tr>\n",
       "      <th>0</th>\n",
       "      <td>One World Trade Center</td>\n",
       "      <td>1,776 (541)\\n</td>\n",
       "      <td>94</td>\n",
       "      <td>2014\\n</td>\n",
       "      <td>285 Fulton Street\\n</td>\n",
       "    </tr>\n",
       "    <tr>\n",
       "      <th>1</th>\n",
       "      <td>Central Park Tower</td>\n",
       "      <td>1,550 (472)\\n</td>\n",
       "      <td>99</td>\n",
       "      <td>2021\\n</td>\n",
       "      <td>225 West 57th Street\\n</td>\n",
       "    </tr>\n",
       "    <tr>\n",
       "      <th>2</th>\n",
       "      <td>111 West 57th Street</td>\n",
       "      <td>1,428 (435)\\n</td>\n",
       "      <td>85</td>\n",
       "      <td>2022\\n</td>\n",
       "      <td>111 West 57th Street\\n</td>\n",
       "    </tr>\n",
       "    <tr>\n",
       "      <th>3</th>\n",
       "      <td>One Vanderbilt</td>\n",
       "      <td>1,401 (427)\\n</td>\n",
       "      <td>73</td>\n",
       "      <td>2020\\n</td>\n",
       "      <td>1 Vanderbilt Avenue\\n</td>\n",
       "    </tr>\n",
       "    <tr>\n",
       "      <th>4</th>\n",
       "      <td>432 Park Avenue</td>\n",
       "      <td>1,397 (426)\\n</td>\n",
       "      <td>85</td>\n",
       "      <td>2015\\n</td>\n",
       "      <td>432 Park Avenue\\n</td>\n",
       "    </tr>\n",
       "  </tbody>\n",
       "</table>\n",
       "</div>"
      ],
      "text/plain": [
       "                     Name         Height  Floors    Year  \\\n",
       "0  One World Trade Center  1,776 (541)\\n      94  2014\\n   \n",
       "1      Central Park Tower  1,550 (472)\\n      99  2021\\n   \n",
       "2    111 West 57th Street  1,428 (435)\\n      85  2022\\n   \n",
       "3          One Vanderbilt  1,401 (427)\\n      73  2020\\n   \n",
       "4         432 Park Avenue  1,397 (426)\\n      85  2015\\n   \n",
       "\n",
       "                  Address  \n",
       "0     285 Fulton Street\\n  \n",
       "1  225 West 57th Street\\n  \n",
       "2  111 West 57th Street\\n  \n",
       "3   1 Vanderbilt Avenue\\n  \n",
       "4       432 Park Avenue\\n  "
      ]
     },
     "execution_count": 31,
     "metadata": {},
     "output_type": "execute_result"
    }
   ],
   "source": [
    "df.head()"
   ]
  },
  {
   "cell_type": "code",
   "execution_count": 32,
   "id": "f28c5fbd",
   "metadata": {},
   "outputs": [
    {
     "name": "stdout",
     "output_type": "stream",
     "text": [
      "<class 'pandas.core.frame.DataFrame'>\n",
      "RangeIndex: 106 entries, 0 to 105\n",
      "Data columns (total 5 columns):\n",
      " #   Column   Non-Null Count  Dtype \n",
      "---  ------   --------------  ----- \n",
      " 0   Name     105 non-null    object\n",
      " 1   Height   106 non-null    object\n",
      " 2   Floors   106 non-null    int64 \n",
      " 3   Year     106 non-null    object\n",
      " 4   Address  106 non-null    object\n",
      "dtypes: int64(1), object(4)\n",
      "memory usage: 4.3+ KB\n"
     ]
    }
   ],
   "source": [
    "df.info()"
   ]
  },
  {
   "cell_type": "code",
   "execution_count": 33,
   "id": "5ed9d0cc",
   "metadata": {},
   "outputs": [
    {
     "data": {
      "text/html": [
       "<div>\n",
       "<style scoped>\n",
       "    .dataframe tbody tr th:only-of-type {\n",
       "        vertical-align: middle;\n",
       "    }\n",
       "\n",
       "    .dataframe tbody tr th {\n",
       "        vertical-align: top;\n",
       "    }\n",
       "\n",
       "    .dataframe thead th {\n",
       "        text-align: right;\n",
       "    }\n",
       "</style>\n",
       "<table border=\"1\" class=\"dataframe\">\n",
       "  <thead>\n",
       "    <tr style=\"text-align: right;\">\n",
       "      <th></th>\n",
       "      <th>Floors</th>\n",
       "    </tr>\n",
       "  </thead>\n",
       "  <tbody>\n",
       "    <tr>\n",
       "      <th>count</th>\n",
       "      <td>106.000000</td>\n",
       "    </tr>\n",
       "    <tr>\n",
       "      <th>mean</th>\n",
       "      <td>97.169811</td>\n",
       "    </tr>\n",
       "    <tr>\n",
       "      <th>std</th>\n",
       "      <td>266.309254</td>\n",
       "    </tr>\n",
       "    <tr>\n",
       "      <th>min</th>\n",
       "      <td>42.000000</td>\n",
       "    </tr>\n",
       "    <tr>\n",
       "      <th>25%</th>\n",
       "      <td>52.000000</td>\n",
       "    </tr>\n",
       "    <tr>\n",
       "      <th>50%</th>\n",
       "      <td>58.000000</td>\n",
       "    </tr>\n",
       "    <tr>\n",
       "      <th>75%</th>\n",
       "      <td>67.000000</td>\n",
       "    </tr>\n",
       "    <tr>\n",
       "      <th>max</th>\n",
       "      <td>2009.000000</td>\n",
       "    </tr>\n",
       "  </tbody>\n",
       "</table>\n",
       "</div>"
      ],
      "text/plain": [
       "            Floors\n",
       "count   106.000000\n",
       "mean     97.169811\n",
       "std     266.309254\n",
       "min      42.000000\n",
       "25%      52.000000\n",
       "50%      58.000000\n",
       "75%      67.000000\n",
       "max    2009.000000"
      ]
     },
     "execution_count": 33,
     "metadata": {},
     "output_type": "execute_result"
    }
   ],
   "source": [
    "df.describe()"
   ]
  },
  {
   "cell_type": "code",
   "execution_count": 34,
   "id": "99709e55",
   "metadata": {},
   "outputs": [],
   "source": [
    "# Delete values in brackets and newline characters\n",
    "df['Height'] = df['Height'].apply(lambda x: re.sub(r'\\(.*\\)', '', x).replace('\\n', ''))\n",
    "\n",
    "# Delete characters except values\n",
    "df['Height'] = df['Height'].apply(lambda x: re.sub(r'\\D', '', x))\n",
    "\n",
    "# Change format of Height to int\n",
    "df['Height'] = df['Height'].astype(int)"
   ]
  },
  {
   "cell_type": "code",
   "execution_count": 35,
   "id": "60c9d9a5",
   "metadata": {},
   "outputs": [
    {
     "data": {
      "text/html": [
       "<div>\n",
       "<style scoped>\n",
       "    .dataframe tbody tr th:only-of-type {\n",
       "        vertical-align: middle;\n",
       "    }\n",
       "\n",
       "    .dataframe tbody tr th {\n",
       "        vertical-align: top;\n",
       "    }\n",
       "\n",
       "    .dataframe thead th {\n",
       "        text-align: right;\n",
       "    }\n",
       "</style>\n",
       "<table border=\"1\" class=\"dataframe\">\n",
       "  <thead>\n",
       "    <tr style=\"text-align: right;\">\n",
       "      <th></th>\n",
       "      <th>Name</th>\n",
       "      <th>Height</th>\n",
       "      <th>Floors</th>\n",
       "      <th>Year</th>\n",
       "      <th>Address</th>\n",
       "    </tr>\n",
       "  </thead>\n",
       "  <tbody>\n",
       "    <tr>\n",
       "      <th>0</th>\n",
       "      <td>One World Trade Center</td>\n",
       "      <td>1776</td>\n",
       "      <td>94</td>\n",
       "      <td>2014\\n</td>\n",
       "      <td>285 Fulton Street\\n</td>\n",
       "    </tr>\n",
       "    <tr>\n",
       "      <th>1</th>\n",
       "      <td>Central Park Tower</td>\n",
       "      <td>1550</td>\n",
       "      <td>99</td>\n",
       "      <td>2021\\n</td>\n",
       "      <td>225 West 57th Street\\n</td>\n",
       "    </tr>\n",
       "    <tr>\n",
       "      <th>2</th>\n",
       "      <td>111 West 57th Street</td>\n",
       "      <td>1428</td>\n",
       "      <td>85</td>\n",
       "      <td>2022\\n</td>\n",
       "      <td>111 West 57th Street\\n</td>\n",
       "    </tr>\n",
       "    <tr>\n",
       "      <th>3</th>\n",
       "      <td>One Vanderbilt</td>\n",
       "      <td>1401</td>\n",
       "      <td>73</td>\n",
       "      <td>2020\\n</td>\n",
       "      <td>1 Vanderbilt Avenue\\n</td>\n",
       "    </tr>\n",
       "    <tr>\n",
       "      <th>4</th>\n",
       "      <td>432 Park Avenue</td>\n",
       "      <td>1397</td>\n",
       "      <td>85</td>\n",
       "      <td>2015\\n</td>\n",
       "      <td>432 Park Avenue\\n</td>\n",
       "    </tr>\n",
       "  </tbody>\n",
       "</table>\n",
       "</div>"
      ],
      "text/plain": [
       "                     Name  Height  Floors    Year                 Address\n",
       "0  One World Trade Center    1776      94  2014\\n     285 Fulton Street\\n\n",
       "1      Central Park Tower    1550      99  2021\\n  225 West 57th Street\\n\n",
       "2    111 West 57th Street    1428      85  2022\\n  111 West 57th Street\\n\n",
       "3          One Vanderbilt    1401      73  2020\\n   1 Vanderbilt Avenue\\n\n",
       "4         432 Park Avenue    1397      85  2015\\n       432 Park Avenue\\n"
      ]
     },
     "execution_count": 35,
     "metadata": {},
     "output_type": "execute_result"
    }
   ],
   "source": [
    "df.head()"
   ]
  },
  {
   "cell_type": "code",
   "execution_count": 38,
   "id": "45a23e1b",
   "metadata": {},
   "outputs": [
    {
     "name": "stderr",
     "output_type": "stream",
     "text": [
      "C:\\Users\\Iman\\AppData\\Local\\Temp\\ipykernel_4392\\3794913010.py:5: FutureWarning: The pandas.np module is deprecated and will be removed from pandas in a future version. Import numpy directly instead\n",
      "  df['Year'] = df['Year'].replace('—', pd.np.nan)\n"
     ]
    }
   ],
   "source": [
    "# Remove rows where 'Year' is NaN\n",
    "df.dropna(subset=['Year'], inplace=True)\n",
    "\n",
    "# Replace '—' with NaN in the 'Year' column\n",
    "df['Year'] = df['Year'].replace('—', pd.np.nan)\n",
    "\n",
    "# Convert 'Year' to a numeric data type\n",
    "df['Year'] = pd.to_numeric(df['Year'], errors='coerce')\n",
    "\n",
    "# Remove rows where 'Year' is NaN after converting to numeric\n",
    "df.dropna(subset=['Year'], inplace=True)"
   ]
  },
  {
   "cell_type": "code",
   "execution_count": 42,
   "id": "8969f42b",
   "metadata": {},
   "outputs": [],
   "source": [
    "# Change format of Floors to int\n",
    "df['Floors'] = df['Floors'].astype(int)\n",
    "# Change format of Year to int\n",
    "df['Year'] = df['Year'].astype(int)"
   ]
  },
  {
   "cell_type": "code",
   "execution_count": 43,
   "id": "c6c0a89a",
   "metadata": {},
   "outputs": [
    {
     "name": "stdout",
     "output_type": "stream",
     "text": [
      "<class 'pandas.core.frame.DataFrame'>\n",
      "Int64Index: 101 entries, 0 to 105\n",
      "Data columns (total 5 columns):\n",
      " #   Column   Non-Null Count  Dtype \n",
      "---  ------   --------------  ----- \n",
      " 0   Name     100 non-null    object\n",
      " 1   Height   101 non-null    int32 \n",
      " 2   Floors   101 non-null    int32 \n",
      " 3   Year     101 non-null    int32 \n",
      " 4   Address  101 non-null    object\n",
      "dtypes: int32(3), object(2)\n",
      "memory usage: 3.6+ KB\n"
     ]
    }
   ],
   "source": [
    "df.info()"
   ]
  },
  {
   "cell_type": "code",
   "execution_count": 44,
   "id": "dfc8fd1c",
   "metadata": {},
   "outputs": [
    {
     "data": {
      "text/html": [
       "<div>\n",
       "<style scoped>\n",
       "    .dataframe tbody tr th:only-of-type {\n",
       "        vertical-align: middle;\n",
       "    }\n",
       "\n",
       "    .dataframe tbody tr th {\n",
       "        vertical-align: top;\n",
       "    }\n",
       "\n",
       "    .dataframe thead th {\n",
       "        text-align: right;\n",
       "    }\n",
       "</style>\n",
       "<table border=\"1\" class=\"dataframe\">\n",
       "  <thead>\n",
       "    <tr style=\"text-align: right;\">\n",
       "      <th></th>\n",
       "      <th>Name</th>\n",
       "      <th>Height</th>\n",
       "      <th>Floors</th>\n",
       "      <th>Year</th>\n",
       "      <th>Address</th>\n",
       "    </tr>\n",
       "  </thead>\n",
       "  <tbody>\n",
       "    <tr>\n",
       "      <th>0</th>\n",
       "      <td>One World Trade Center</td>\n",
       "      <td>1776</td>\n",
       "      <td>94</td>\n",
       "      <td>2014</td>\n",
       "      <td>285 Fulton Street\\n</td>\n",
       "    </tr>\n",
       "    <tr>\n",
       "      <th>1</th>\n",
       "      <td>Central Park Tower</td>\n",
       "      <td>1550</td>\n",
       "      <td>99</td>\n",
       "      <td>2021</td>\n",
       "      <td>225 West 57th Street\\n</td>\n",
       "    </tr>\n",
       "    <tr>\n",
       "      <th>2</th>\n",
       "      <td>111 West 57th Street</td>\n",
       "      <td>1428</td>\n",
       "      <td>85</td>\n",
       "      <td>2022</td>\n",
       "      <td>111 West 57th Street\\n</td>\n",
       "    </tr>\n",
       "    <tr>\n",
       "      <th>3</th>\n",
       "      <td>One Vanderbilt</td>\n",
       "      <td>1401</td>\n",
       "      <td>73</td>\n",
       "      <td>2020</td>\n",
       "      <td>1 Vanderbilt Avenue\\n</td>\n",
       "    </tr>\n",
       "    <tr>\n",
       "      <th>4</th>\n",
       "      <td>432 Park Avenue</td>\n",
       "      <td>1397</td>\n",
       "      <td>85</td>\n",
       "      <td>2015</td>\n",
       "      <td>432 Park Avenue\\n</td>\n",
       "    </tr>\n",
       "  </tbody>\n",
       "</table>\n",
       "</div>"
      ],
      "text/plain": [
       "                     Name  Height  Floors  Year                 Address\n",
       "0  One World Trade Center    1776      94  2014     285 Fulton Street\\n\n",
       "1      Central Park Tower    1550      99  2021  225 West 57th Street\\n\n",
       "2    111 West 57th Street    1428      85  2022  111 West 57th Street\\n\n",
       "3          One Vanderbilt    1401      73  2020   1 Vanderbilt Avenue\\n\n",
       "4         432 Park Avenue    1397      85  2015       432 Park Avenue\\n"
      ]
     },
     "execution_count": 44,
     "metadata": {},
     "output_type": "execute_result"
    }
   ],
   "source": [
    "df.head()"
   ]
  },
  {
   "cell_type": "markdown",
   "id": "12f2a11b",
   "metadata": {},
   "source": [
    "<b>Total Height and Floors by Decades</b>"
   ]
  },
  {
   "cell_type": "code",
   "execution_count": 58,
   "id": "1293058c",
   "metadata": {},
   "outputs": [],
   "source": [
    "# Make decade\n",
    "df['Decade'] = pd.cut(df['Year'], bins=range(1900, 2031, 10), labels=range(1900, 2030, 10))"
   ]
  },
  {
   "cell_type": "code",
   "execution_count": 59,
   "id": "edd6bde1",
   "metadata": {},
   "outputs": [],
   "source": [
    "df_pivot = df.pivot_table(index='Decade', values='Height', aggfunc='sum')\n",
    "df_pivot = df_pivot.sort_index()"
   ]
  },
  {
   "cell_type": "code",
   "execution_count": 60,
   "id": "d0d115cc",
   "metadata": {},
   "outputs": [
    {
     "data": {
      "image/png": "[encoded data removed]",
      "text/plain": [
       "<Figure size 720x360 with 1 Axes>"
      ]
     },
     "metadata": {
      "needs_background": "light"
     },
     "output_type": "display_data"
    }
   ],
   "source": [
    "# Make graph of Total Height by Decade\n",
    "plt.figure(figsize=(10,5))\n",
    "sns.barplot(data=df_pivot, x='Height', y=df_pivot.index, palette=sns.color_palette('pastel', n_colors=len(df_pivot)))\n",
    "plt.xlabel('Total Height')\n",
    "plt.ylabel('Decade')\n",
    "plt.title('Total Height by Decade')\n",
    "plt.show()"
   ]
  },
  {
   "cell_type": "code",
   "execution_count": 62,
   "id": "ae2ee9c0",
   "metadata": {},
   "outputs": [],
   "source": [
    "df_pivot = df.pivot_table(index='Decade', values='Floors', aggfunc='sum')\n",
    "df_pivot = df_pivot.sort_index()"
   ]
  },
  {
   "cell_type": "code",
   "execution_count": 65,
   "id": "18ff647b",
   "metadata": {},
   "outputs": [
    {
     "data": {
      "image/png": "[encoded data removed]",
      "text/plain": [
       "<Figure size 720x360 with 1 Axes>"
      ]
     },
     "metadata": {
      "needs_background": "light"
     },
     "output_type": "display_data"
    }
   ],
   "source": [
    "# Make graph of Total Floors by Decade\n",
    "plt.figure(figsize=(10,5))\n",
    "sns.barplot(data=df_pivot, x='Floors', y=df_pivot.index, palette=sns.color_palette('pastel', n_colors=len(df_pivot)))\n",
    "plt.xlabel('Total Height')\n",
    "plt.ylabel('Decade')\n",
    "plt.title('Total Floors by Decade')\n",
    "plt.show()"
   ]
  },
  {
   "cell_type": "code",
   "execution_count": null,
   "id": "ca7bcd5a",
   "metadata": {},
   "outputs": [],
   "source": []
  }
 ],
 "metadata": {
  "kernelspec": {
   "display_name": "Python 3 (ipykernel)",
   "language": "python",
   "name": "python3"
  },
  "language_info": {
   "codemirror_mode": {
    "name": "ipython",
    "version": 3
   },
   "file_extension": ".py",
   "mimetype": "text/x-python",
   "name": "python",
   "nbconvert_exporter": "python",
   "pygments_lexer": "ipython3",
   "version": "3.10.2"
  }
 },
 "nbformat": 4,
 "nbformat_minor": 5
}
